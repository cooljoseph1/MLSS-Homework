{
 "cells": [
  {
   "cell_type": "code",
   "execution_count": 1,
   "id": "d093af85-f77b-422a-8867-a62a83268daa",
   "metadata": {},
   "outputs": [],
   "source": [
    "import numpy\n",
    "from scipy.special import logsumexp\n",
    "import matplotlib.pyplot as plt"
   ]
  },
  {
   "cell_type": "code",
   "execution_count": 2,
   "id": "32c0291c-3cd5-48d8-96a6-72e05e6d6a53",
   "metadata": {},
   "outputs": [],
   "source": [
    "# Load Data\n",
    "Xs = numpy.load(\"mnist_images.npy\")\n",
    "labels = numpy.load(\"mnist_labels.npy\")\n",
    "Xs = Xs / 255.0"
   ]
  },
  {
   "cell_type": "code",
   "execution_count": 3,
   "id": "0370237c-5a1e-4699-91cd-c4f6c993b706",
   "metadata": {},
   "outputs": [],
   "source": [
    "# Constants\n",
    "N, D = Xs.shape\n",
    "K = 20 # 0, 1, 2, ..., 9\n",
    "\n",
    "# To help with debugging:\n",
    "numpy.random.seed(1000)\n",
    "\n",
    "# Only run it on a subset of the dataset\n",
    "N = 500\n",
    "keys = numpy.random.randint(len(Xs), size=N)\n",
    "Xs = Xs[keys]\n",
    "labels = labels[keys]"
   ]
  },
  {
   "cell_type": "code",
   "execution_count": 4,
   "id": "83ae0ab4-e8cb-4e2c-90fd-2960a62a4460",
   "metadata": {},
   "outputs": [],
   "source": [
    "# Calculate log(eta)\n",
    "\n",
    "def Estep(Xs, log_p, log_mix_p):\n",
    "    \"\"\"\n",
    "    Xs -- N x D matrix of input data\n",
    "    log_p -- K x D matrix of log of Bernoulli parameters\n",
    "    log_mix_p -- K x 1 vector of log of how likely each row of p is\n",
    "\n",
    "    Note:  This function returns log(eta), not eta for purposes of\n",
    "    numerical stability.\n",
    "    \"\"\"\n",
    "    log_q = numpy.log(1 - numpy.exp(log_p))\n",
    "    likelihoods = Xs @ log_p.T + (1 - Xs) @ log_q.T\n",
    "    denominator = logsumexp(likelihoods, axis=-1)\n",
    "    log_eta = log_mix_p[None, :] + likelihoods - denominator[:, None]\n",
    "    return log_eta"
   ]
  },
  {
   "cell_type": "code",
   "execution_count": 5,
   "id": "f2b3e005-7a7e-4fe3-baa1-b9168b2eed17",
   "metadata": {},
   "outputs": [],
   "source": [
    "def Mstep(Xs, log_eta, alpha1=1e-8, alpha2=1e-8):\n",
    "    log_sum_etas = logsumexp(log_eta, axis=0) #N1, N2, ... in the homework\n",
    "    log_sum_etas1 = numpy.logaddexp(log_sum_etas, numpy.log(alpha1 * D)) # Dirichlet smoothing\n",
    "    log_sum_etas2 = numpy.logaddexp(log_sum_etas, numpy.log(alpha2)) # Dirichlet smoothing\n",
    "    \n",
    "    log_p_numerator = logsumexp(log_eta[:, :, None], b=Xs[:, None, :], axis=0)\n",
    "    log_p_numerator = numpy.logaddexp(log_p_numerator, numpy.log(alpha1)) # Dirichlet smoothing\n",
    "    log_p = log_p_numerator - log_sum_etas1[:, None]\n",
    "    \n",
    "    log_mix_p = log_sum_etas2 - logsumexp(log_sum_etas2)\n",
    "    \n",
    "    return (log_p, log_mix_p)"
   ]
  },
  {
   "cell_type": "code",
   "execution_count": 6,
   "id": "5a366d40-7bb7-4f17-bec8-0dc7fd104abe",
   "metadata": {},
   "outputs": [],
   "source": [
    "def MoBlabels(Xs, log_p, log_mix_p):\n",
    "    \"\"\"\n",
    "    Return labels for the Xs according to the given log_p and log_mix_p\n",
    "    \"\"\"\n",
    "    log_eta = Estep(Xs, log_p, log_mix_p)\n",
    "    cluster_labels = numpy.argmax(log_eta, axis=-1)\n",
    "    return cluster_labels"
   ]
  },
  {
   "cell_type": "code",
   "execution_count": 33,
   "id": "0b93c046-b3b6-44ae-8dea-26245fd7b5ee",
   "metadata": {},
   "outputs": [],
   "source": [
    "# Initial guesses\n",
    "\n",
    "p = numpy.random.rand(K, D)\n",
    "for i in range(K):\n",
    "    p[i] /= numpy.dot(p[i], p[i]) ** 0.5\n",
    "    \n",
    "mix_p = numpy.ones((K,)) / K\n",
    "\n",
    "log_p = numpy.log(p)\n",
    "log_mix_p = numpy.log(mix_p)"
   ]
  },
  {
   "cell_type": "code",
   "execution_count": 34,
   "id": "f0106788-2e07-4962-9543-0caff2fd7d7d",
   "metadata": {},
   "outputs": [],
   "source": [
    "# Iterate\n",
    "for i in range(20):\n",
    "    log_eta = Estep(Xs, log_p, log_mix_p)\n",
    "    log_p, log_mix_p = Mstep(Xs, log_eta)"
   ]
  },
  {
   "cell_type": "markdown",
   "id": "7ec83d12-9c9d-4271-8742-3efa5ebbd7e1",
   "metadata": {},
   "source": [
    "## Analysis"
   ]
  },
  {
   "cell_type": "code",
   "execution_count": 35,
   "id": "30e5ed08-6977-4155-9b8b-b94721cf9af3",
   "metadata": {},
   "outputs": [
    {
     "data": {
      "image/png": "[encoded data removed]",
      "text/plain": [
       "<Figure size 1584x1584 with 20 Axes>"
      ]
     },
     "metadata": {
      "needs_background": "light"
     },
     "output_type": "display_data"
    }
   ],
   "source": [
    "# Show the clusters\n",
    "\n",
    "fig, ax = plt.subplots(1, K, figsize=(22, 22))\n",
    "for k in range(K):\n",
    "    cluster = log_p[k]\n",
    "    cluster = cluster - numpy.mean(cluster)\n",
    "    cluster = numpy.exp(cluster)\n",
    "    cluster = cluster - numpy.min(cluster)\n",
    "    cluster = cluster / (1e-8 + numpy.max(cluster))\n",
    "    cluster = cluster.reshape((28, 28))\n",
    "    ax[k].imshow(cluster, cmap='gray')\n",
    "plt.show()"
   ]
  },
  {
   "cell_type": "markdown",
   "id": "2e5f407b-96d2-4a3f-8e80-c31b55e33f2b",
   "metadata": {},
   "source": [
    "I see a lot of digits!  Some of the  digits seem to be combined together, though, and some have multiple copies.  E.g., 4, 7, and 9 collectively form two separate clusters."
   ]
  },
  {
   "cell_type": "code",
   "execution_count": 10,
   "id": "1f036b78-9854-4126-b8de-e8724560e037",
   "metadata": {},
   "outputs": [],
   "source": [
    "# Load Data\n",
    "all_Xs = numpy.load(\"mnist_images.npy\")\n",
    "all_labels = numpy.load(\"mnist_labels.npy\")\n",
    "all_Xs = all_Xs / 255.0"
   ]
  },
  {
   "cell_type": "code",
   "execution_count": null,
   "id": "d8d49386-ec85-447c-9f00-bf1372dc90bc",
   "metadata": {},
   "outputs": [],
   "source": [
    "cluster_labels = MoBlabels(all_Xs, log_p, log_mix_p)"
   ]
  },
  {
   "cell_type": "code",
   "execution_count": null,
   "id": "dfbd7113-4db2-4be5-bc78-983178fd0e00",
   "metadata": {},
   "outputs": [],
   "source": [
    "# Create a K by 10 matrix showing how often each cluster has every label from 0 to 9.\n",
    "matrix = numpy.zeros((K, 10), dtype=numpy.uint32)\n",
    "\n",
    "for cluster_label, true_label in zip(cluster_labels, all_labels):\n",
    "    matrix[cluster_label][true_label] += 1\n",
    "print(matrix)"
   ]
  },
  {
   "cell_type": "code",
   "execution_count": null,
   "id": "53344d09-8213-48c8-a7c6-dd4174f6bbb1",
   "metadata": {},
   "outputs": [],
   "source": [
    "# View matrix visually\n",
    "matrix = matrix.astype(float)\n",
    "matrix /= numpy.max(matrix)\n",
    "plt.imshow(matrix, cmap='gray')\n",
    "plt.show()"
   ]
  },
  {
   "cell_type": "markdown",
   "id": "2d92a77c-f396-40eb-9319-3f0132221585",
   "metadata": {},
   "source": [
    "Most clusters have zero numbers.  A few represent a single number (like \\#7 which represents a one).  Some are combinations of 2-4 different numbers."
   ]
  }
 ],
 "metadata": {
  "kernelspec": {
   "display_name": "Python 3 (ipykernel)",
   "language": "python",
   "name": "python3"
  },
  "language_info": {
   "codemirror_mode": {
    "name": "ipython",
    "version": 3
   },
   "file_extension": ".py",
   "mimetype": "text/x-python",
   "name": "python",
   "nbconvert_exporter": "python",
   "pygments_lexer": "ipython3",
   "version": "3.8.5"
  }
 },
 "nbformat": 4,
 "nbformat_minor": 5
}
