{
 "cells": [
  {
   "cell_type": "code",
   "execution_count": 5,
   "id": "f6806f09-c7af-498c-af25-d6979a363f00",
   "metadata": {},
   "outputs": [],
   "source": [
    "import numpy as np\n",
    "from scipy.io import loadmat"
   ]
  },
  {
   "cell_type": "code",
   "execution_count": 12,
   "id": "077c402a-9879-4784-a51c-6fe99dfe31b2",
   "metadata": {},
   "outputs": [
    {
     "name": "stdout",
     "output_type": "stream",
     "text": [
      "(5000, 2)\n"
     ]
    }
   ],
   "source": [
    "twosample = loadmat(\"twosample.mat\")\n",
    "data = twosample['data']\n",
    "print(data.shape)"
   ]
  },
  {
   "cell_type": "code",
   "execution_count": 10,
   "id": "e19781cf-e62a-4291-a590-a74d161a9c0c",
   "metadata": {},
   "outputs": [
    {
     "data": {
      "text/plain": [
       "array([[0.65473752, 0.58257336],\n",
       "       [0.5290278 , 0.74711887],\n",
       "       [0.35349436, 0.86780341],\n",
       "       ...,\n",
       "       [0.14060207, 0.0123571 ],\n",
       "       [0.85395249, 0.30050124],\n",
       "       [0.40479331, 0.19622967]])"
      ]
     },
     "execution_count": 10,
     "metadata": {},
     "output_type": "execute_result"
    }
   ],
   "source": [
    "twosample['data']"
   ]
  },
  {
   "cell_type": "code",
   "execution_count": null,
   "id": "56915fdb-9c56-42eb-9af4-807370d778db",
   "metadata": {},
   "outputs": [],
   "source": []
  }
 ],
 "metadata": {
  "kernelspec": {
   "display_name": "Python 3 (ipykernel)",
   "language": "python",
   "name": "python3"
  },
  "language_info": {
   "codemirror_mode": {
    "name": "ipython",
    "version": 3
   },
   "file_extension": ".py",
   "mimetype": "text/x-python",
   "name": "python",
   "nbconvert_exporter": "python",
   "pygments_lexer": "ipython3",
   "version": "3.8.5"
  }
 },
 "nbformat": 4,
 "nbformat_minor": 5
}
