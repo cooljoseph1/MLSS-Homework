{
 "cells": [
  {
   "cell_type": "code",
   "execution_count": 19,
   "id": "f6806f09-c7af-498c-af25-d6979a363f00",
   "metadata": {},
   "outputs": [],
   "source": [
    "import numpy as np\n",
    "from scipy.io import loadmat\n",
    "\n",
    "import matplotlib.pyplot as plt"
   ]
  },
  {
   "cell_type": "code",
   "execution_count": 17,
   "id": "077c402a-9879-4784-a51c-6fe99dfe31b2",
   "metadata": {},
   "outputs": [],
   "source": [
    "twosample = loadmat(\"twosample.mat\")\n",
    "data = twosample['data']\n",
    "X, Y = data[:, 0], data[:, 1]\n",
    "m = len(X)"
   ]
  },
  {
   "cell_type": "code",
   "execution_count": null,
   "id": "56915fdb-9c56-42eb-9af4-807370d778db",
   "metadata": {},
   "outputs": [],
   "source": [
    "def RBFKernel(x, y, sigma=1):\n",
    "    diff = x - y\n",
    "    squared_norm = np.dot(diff, diff)\n",
    "    return np.exp(-squared_norm / 2 / sigma ** 2)    "
   ]
  },
  {
   "cell_type": "code",
   "execution_count": null,
   "id": "cd6b8027-a2ac-4218-9fea-462d00fe4bda",
   "metadata": {},
   "outputs": [
    {
     "name": "stdout",
     "output_type": "stream",
     "text": [
      "0.1687211592521805\n",
      "0.15308553189788499\n"
     ]
    }
   ],
   "source": [
    "total = 0\n",
    "for i in range(m):\n",
    "    for j in range(m):\n",
    "        total += RBFKernel(x[i], x[j])"
   ]
  },
  {
   "cell_type": "code",
   "execution_count": 20,
   "id": "fa715073-ab4f-4f68-98c2-d591d5f30d78",
   "metadata": {},
   "outputs": [
    {
     "data": {
      "text/plain": [
       "(array([521., 505., 504., 502., 462., 510., 472., 508., 501., 515.]),\n",
       " array([4.01072536e-04, 1.00306246e-01, 2.00211419e-01, 3.00116593e-01,\n",
       "        4.00021766e-01, 4.99926939e-01, 5.99832113e-01, 6.99737286e-01,\n",
       "        7.99642460e-01, 8.99547633e-01, 9.99452806e-01]),\n",
       " <BarContainer object of 10 artists>)"
      ]
     },
     "execution_count": 20,
     "metadata": {},
     "output_type": "execute_result"
    },
    {
     "data": {
      "image/png": "[encoded data removed]",
      "text/plain": [
       "<Figure size 432x288 with 1 Axes>"
      ]
     },
     "metadata": {
      "needs_background": "light"
     },
     "output_type": "display_data"
    }
   ],
   "source": [
    "plt.hist(X)"
   ]
  },
  {
   "cell_type": "code",
   "execution_count": 21,
   "id": "61f67942-1693-4885-831b-38b184ce824c",
   "metadata": {},
   "outputs": [
    {
     "data": {
      "text/plain": [
       "(array([535., 483., 452., 522., 528., 477., 512., 479., 498., 514.]),\n",
       " array([4.19956708e-05, 1.00005992e-01, 1.99969988e-01, 2.99933984e-01,\n",
       "        3.99897980e-01, 4.99861976e-01, 5.99825973e-01, 6.99789969e-01,\n",
       "        7.99753965e-01, 8.99717961e-01, 9.99681957e-01]),\n",
       " <BarContainer object of 10 artists>)"
      ]
     },
     "execution_count": 21,
     "metadata": {},
     "output_type": "execute_result"
    },
    {
     "data": {
      "image/png": "[encoded data removed]",
      "text/plain": [
       "<Figure size 432x288 with 1 Axes>"
      ]
     },
     "metadata": {
      "needs_background": "light"
     },
     "output_type": "display_data"
    }
   ],
   "source": [
    "plt.hist(Y)"
   ]
  },
  {
   "cell_type": "code",
   "execution_count": null,
   "id": "99da86a4-9e8c-4c2e-a3ef-52cfc2d749f2",
   "metadata": {},
   "outputs": [],
   "source": []
  }
 ],
 "metadata": {
  "kernelspec": {
   "display_name": "Python 3 (ipykernel)",
   "language": "python",
   "name": "python3"
  },
  "language_info": {
   "codemirror_mode": {
    "name": "ipython",
    "version": 3
   },
   "file_extension": ".py",
   "mimetype": "text/x-python",
   "name": "python",
   "nbconvert_exporter": "python",
   "pygments_lexer": "ipython3",
   "version": "3.8.5"
  }
 },
 "nbformat": 4,
 "nbformat_minor": 5
}
