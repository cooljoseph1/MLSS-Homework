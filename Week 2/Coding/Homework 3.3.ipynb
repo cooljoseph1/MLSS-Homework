{
 "cells": [
  {
   "cell_type": "code",
   "execution_count": 5,
   "id": "f6806f09-c7af-498c-af25-d6979a363f00",
   "metadata": {},
   "outputs": [],
   "source": [
    "import numpy as np\n",
    "from scipy.io import loadmat"
   ]
  },
  {
   "cell_type": "code",
   "execution_count": 15,
   "id": "077c402a-9879-4784-a51c-6fe99dfe31b2",
   "metadata": {},
   "outputs": [],
   "source": [
    "twosample = loadmat(\"twosample.mat\")\n",
    "data = twosample['data']\n",
    "X, Y = data[:, 0], data[:, 1]"
   ]
  },
  {
   "cell_type": "code",
   "execution_count": 16,
   "id": "56915fdb-9c56-42eb-9af4-807370d778db",
   "metadata": {},
   "outputs": [],
   "source": [
    "def RBFKernel(x, y, sigma=1):\n",
    "    diff = x - y\n",
    "    squared_norm = np.dot(diff, diff)\n",
    "    return np.exp(-squared_norm / 2 / sigma ** 2)    "
   ]
  },
  {
   "cell_type": "code",
   "execution_count": null,
   "id": "cd6b8027-a2ac-4218-9fea-462d00fe4bda",
   "metadata": {},
   "outputs": [],
   "source": [
    "E_x = np.mean(X)\n",
    "E_"
   ]
  }
 ],
 "metadata": {
  "kernelspec": {
   "display_name": "Python 3 (ipykernel)",
   "language": "python",
   "name": "python3"
  },
  "language_info": {
   "codemirror_mode": {
    "name": "ipython",
    "version": 3
   },
   "file_extension": ".py",
   "mimetype": "text/x-python",
   "name": "python",
   "nbconvert_exporter": "python",
   "pygments_lexer": "ipython3",
   "version": "3.8.5"
  }
 },
 "nbformat": 4,
 "nbformat_minor": 5
}
