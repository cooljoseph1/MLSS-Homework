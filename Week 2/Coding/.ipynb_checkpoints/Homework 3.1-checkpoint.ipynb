{
 "cells": [
  {
   "cell_type": "code",
   "execution_count": 9,
   "id": "f6806f09-c7af-498c-af25-d6979a363f00",
   "metadata": {},
   "outputs": [],
   "source": [
    "import numpy as np\n",
    "from scipy.io import savemat, loadmat\n",
    "from scipy.optimize import linprog\n",
    "\n",
    "import matplotlib.pyplot as plt"
   ]
  },
  {
   "cell_type": "code",
   "execution_count": 10,
   "id": "077c402a-9879-4784-a51c-6fe99dfe31b2",
   "metadata": {},
   "outputs": [],
   "source": [
    "quantile = loadmat(\"quantile.mat\")\n",
    "xTrain, yTrain = quantile[\"xTrain\"], quantile[\"yTrain\"]"
   ]
  },
  {
   "cell_type": "code",
   "execution_count": 8,
   "id": "d7684655-86bd-4e78-8691-075e45fcd74e",
   "metadata": {},
   "outputs": [],
   "source": [
    "# Constants\n",
    "N = len(xTrain)\n",
    "tau = 0.25"
   ]
  },
  {
   "cell_type": "code",
   "execution_count": 6,
   "id": "2078aeac-6f4f-4828-8c9d-f940bb7aa5c2",
   "metadata": {},
   "outputs": [
    {
     "data": {
      "text/plain": [
       "<matplotlib.collections.PathCollection at 0x1c0d512d130>"
      ]
     },
     "execution_count": 6,
     "metadata": {},
     "output_type": "execute_result"
    },
    {
     "data": {
      "image/png": "[encoded data removed]",
      "text/plain": [
       "<Figure size 432x288 with 1 Axes>"
      ]
     },
     "metadata": {
      "needs_background": "light"
     },
     "output_type": "display_data"
    }
   ],
   "source": [
    "plt.scatter(xTrain, yTrain)"
   ]
  },
  {
   "cell_type": "code",
   "execution_count": 11,
   "id": "bc1b320b-317c-4c24-8afd-1feec8b61bcb",
   "metadata": {},
   "outputs": [
    {
     "ename": "NameError",
     "evalue": "name 'numpy' is not defined",
     "output_type": "error",
     "traceback": [
      "\u001b[1;31m---------------------------------------------------------------------------\u001b[0m",
      "\u001b[1;31mNameError\u001b[0m                                 Traceback (most recent call last)",
      "Input \u001b[1;32mIn [11]\u001b[0m, in \u001b[0;36m<cell line: 1>\u001b[1;34m()\u001b[0m\n\u001b[0;32m      1\u001b[0m c \u001b[38;5;241m=\u001b[39m np\u001b[38;5;241m.\u001b[39mconcatenate((\n\u001b[1;32m----> 2\u001b[0m     \u001b[43mnumpy\u001b[49m\u001b[38;5;241m.\u001b[39mones(N) \u001b[38;5;241m*\u001b[39m tau, \u001b[38;5;66;03m# u\u001b[39;00m\n\u001b[0;32m      3\u001b[0m     numpy\u001b[38;5;241m.\u001b[39mones(N) \u001b[38;5;241m*\u001b[39m (\u001b[38;5;241m1\u001b[39m \u001b[38;5;241m-\u001b[39m tau), \u001b[38;5;66;03m# v\u001b[39;00m\n\u001b[0;32m      4\u001b[0m     \u001b[38;5;241m0\u001b[39m, \u001b[38;5;66;03m# Beta\u001b[39;00m\n\u001b[0;32m      5\u001b[0m ))\n\u001b[0;32m      7\u001b[0m Aub \u001b[38;5;241m=\u001b[39m \u001b[38;5;241m-\u001b[39m\u001b[38;5;241m1\u001b[39m \u001b[38;5;241m*\u001b[39m np\u001b[38;5;241m.\u001b[39midentity(\u001b[38;5;241m2\u001b[39m \u001b[38;5;241m*\u001b[39m N \u001b[38;5;241m+\u001b[39m \u001b[38;5;241m1\u001b[39m)\n\u001b[0;32m      8\u001b[0m Aub[\u001b[38;5;241m-\u001b[39m\u001b[38;5;241m1\u001b[39m, \u001b[38;5;241m-\u001b[39m\u001b[38;5;241m1\u001b[39m] \u001b[38;5;241m=\u001b[39m \u001b[38;5;241m0\u001b[39m\n",
      "\u001b[1;31mNameError\u001b[0m: name 'numpy' is not defined"
     ]
    }
   ],
   "source": [
    "c = np.concatenate((\n",
    "    np.ones(N) * tau, # u\n",
    "    np.ones(N) * (1 - tau), # v\n",
    "    0, # Beta\n",
    "))\n",
    "\n",
    "Aub = -np.identity(2 * N + 1)\n",
    "Aub[-1, -1] = 0\n",
    "bub = np.zeros((2 * N + 1,))\n",
    "\n",
    "Aeq = np.zeros((2 * N + 1, 2 * N + 1))\n",
    "Aeq[:N, :N] = np.identity(N)\n",
    "Aeq[N:2*N, N:2*N] = -np.identity(N)"
   ]
  },
  {
   "cell_type": "code",
   "execution_count": null,
   "id": "e0a494fe-5469-4320-b7a9-a6ca2e2bea87",
   "metadata": {},
   "outputs": [],
   "source": []
  }
 ],
 "metadata": {
  "kernelspec": {
   "display_name": "Python 3 (ipykernel)",
   "language": "python",
   "name": "python3"
  },
  "language_info": {
   "codemirror_mode": {
    "name": "ipython",
    "version": 3
   },
   "file_extension": ".py",
   "mimetype": "text/x-python",
   "name": "python",
   "nbconvert_exporter": "python",
   "pygments_lexer": "ipython3",
   "version": "3.8.5"
  }
 },
 "nbformat": 4,
 "nbformat_minor": 5
}
