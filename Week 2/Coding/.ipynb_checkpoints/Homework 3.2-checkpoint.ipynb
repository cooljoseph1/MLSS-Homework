{
 "cells": [
  {
   "cell_type": "code",
   "execution_count": 1,
   "id": "f6806f09-c7af-498c-af25-d6979a363f00",
   "metadata": {},
   "outputs": [],
   "source": [
    "import numpy as np\n",
    "import scipy.linalg as linalg\n",
    "\n",
    "import matplotlib.pyplot as plt\n",
    "\n",
    "from io import StringIO"
   ]
  },
  {
   "cell_type": "code",
   "execution_count": 2,
   "id": "fecae450-4edb-4f71-9934-8660e419c800",
   "metadata": {},
   "outputs": [],
   "source": [
    "with open(\"concrete.mat\") as f:\n",
    "    data = f.read().strip().split(\"\\n\\n\")\n",
    "    \n",
    "XTrain, XTest, yTrain, yTest = [np.loadtxt(StringIO(piece)) for piece in data]"
   ]
  },
  {
   "cell_type": "code",
   "execution_count": 3,
   "id": "55f5a750-4d98-4443-a2f7-f85c1f017874",
   "metadata": {},
   "outputs": [],
   "source": [
    "def RBFKernel(X1, X2, sigma, h):\n",
    "    diff = X1[:, None, :] - X2[None, :, :]\n",
    "    squared_distance = np.sum(diff ** 2, axis=-1)\n",
    "    K = sigma * np.exp(-squared_distance / (2 * h**2))\n",
    "    return K"
   ]
  },
  {
   "cell_type": "code",
   "execution_count": 4,
   "id": "e342b20c-2289-42f7-ba67-b9b9e59942b3",
   "metadata": {},
   "outputs": [],
   "source": [
    "def GPRegression(XTrain, yTrain, XTest, gamma, sigma, h):\n",
    "    n = len(XTrain)\n",
    "    K = RBFKernel(XTrain, XTrain, sigma, h)\n",
    "    K_star = RBFKernel(XTrain, XTest, sigma, h)\n",
    "    K_star_star = RBFKernel(XTest, XTest, sigma, h)\n",
    "    \n",
    "    # Apparently, computing (K + gamma*I) ** -1 y is more numerically\n",
    "    # stable through Cholesky decomposition, so that's what\n",
    "    # I do here.\n",
    "    L = linalg.cholesky(K + gamma * np.eye(n), lower=True)\n",
    "    alpha = linalg.cho_solve((L, True), yTrain)\n",
    "    mu = K_star.T @ alpha\n",
    "    \n",
    "    v = linalg.solve_triangular(L, K_star, lower=True)\n",
    "    cov = K_star_star - v.T @ v\n",
    "    \n",
    "    return (mu, cov)\n",
    "    "
   ]
  },
  {
   "cell_type": "code",
   "execution_count": 5,
   "id": "8555de81-21ae-41d5-84fc-00c389183cf8",
   "metadata": {},
   "outputs": [],
   "source": [
    "def LogMarginalLikelihood(XTrain, yTrain, gamma, sigma, h):\n",
    "    n = len(XTrain)\n",
    "    K = RBFKernel(XTrain, XTrain, sigma, h)\n",
    "    covariance = K + gamma * np.eye(n)\n",
    "    L = linalg.cholesky(covariance, lower=True)\n",
    "    v = linalg.solve_triangular(L, yTrain, lower=True)\n",
    "    \n",
    "    # The exponent of the normal distribution\n",
    "    answer = -np.dot(v, v) / 2\n",
    "    \n",
    "    # -1/2 log of (2pi)^n\n",
    "    answer -= np.log(2 * np.pi) * n / 2\n",
    "    \n",
    "    # -1/2 log determinant of covariance matrix\n",
    "    # Explanation:  det(L) = det(cov)^0.5.  L is\n",
    "    # a triangular matrix, so its determinant is\n",
    "    # the product of the elements on its diagonal.\n",
    "    for i in range(n):\n",
    "        answer -= np.log(L[i][i])\n",
    "        \n",
    "    return answer"
   ]
  },
  {
   "cell_type": "code",
   "execution_count": 6,
   "id": "f4eaa178-3cbc-4163-95fc-8837968e0cac",
   "metadata": {},
   "outputs": [],
   "source": [
    "def HyperParameters(XTrain, yTrain, hs, sigmas):\n",
    "    best = None\n",
    "    highest_likelihood = float('-inf')\n",
    "    gamma = 0.01 * np.std(yTrain)\n",
    "    \n",
    "    \n",
    "    sigma, h = max([(sigma_, h_) for h_ in hs for sigma_ in sigmas], key=lambda x: LogMarginalLikelihood(XTrain, yTrain, gamma, *x))\n",
    "    \n",
    "    return (gamma, h, sigma)"
   ]
  },
  {
   "cell_type": "code",
   "execution_count": 7,
   "id": "f2969b00-1b6c-44ba-9f8b-c4f7cc31047c",
   "metadata": {},
   "outputs": [
    {
     "name": "stdout",
     "output_type": "stream",
     "text": [
      "0.16646411925609453 19.689893179908157 166.46411925609453\n"
     ]
    }
   ],
   "source": [
    "# Compute hyperparameters\n",
    "xTrain_std = np.linalg.norm(np.std(XTrain, axis=0))\n",
    "hs = np.logspace(-1, 1, 10) * xTrain_std\n",
    "sigmas = np.logspace(-1, 1, 10) * np.std(yTrain)\n",
    "\n",
    "gamma, h, sigma = HyperParameters(XTrain, yTrain, hs, sigmas)\n",
    "print(gamma, h, sigma)"
   ]
  },
  {
   "cell_type": "code",
   "execution_count": 8,
   "id": "db0aed16-adce-4052-9f3c-904f9f228701",
   "metadata": {},
   "outputs": [],
   "source": [
    "# Get the guesses (expected value) for yTest, using our gaussian process regression and hyperparameters\n",
    "guess, cov = GPRegression(XTrain, yTrain, XTest, gamma, sigma, h)"
   ]
  },
  {
   "cell_type": "code",
   "execution_count": 9,
   "id": "9a1823a0-c715-4c28-b8ab-ccf71ce465d5",
   "metadata": {},
   "outputs": [
    {
     "data": {
      "text/plain": [
       "(0.0, 90.0)"
      ]
     },
     "execution_count": 9,
     "metadata": {},
     "output_type": "execute_result"
    },
    {
     "data": {
      "image/png": "[encoded data removed]",
      "text/plain": [
       "<Figure size 432x288 with 1 Axes>"
      ]
     },
     "metadata": {
      "needs_background": "light"
     },
     "output_type": "display_data"
    }
   ],
   "source": [
    "plt.scatter(yTest, guess)\n",
    "plt.plot(yTest, yTest, c='red')\n",
    "plt.ylim(0, 90)\n",
    "plt.xlim(0, 90)"
   ]
  },
  {
   "cell_type": "markdown",
   "id": "760eabe6-c22a-42ef-9882-761c0d8feadf",
   "metadata": {},
   "source": [
    "The above picture shows the true $y$ on the x-axis with the guessed $y$ on the y-axis.  This predictor is fairly bad.  I suspect this is because the hyperparameters are chosen poorly, since varying those gives much better results."
   ]
  }
 ],
 "metadata": {
  "kernelspec": {
   "display_name": "Python 3 (ipykernel)",
   "language": "python",
   "name": "python3"
  },
  "language_info": {
   "codemirror_mode": {
    "name": "ipython",
    "version": 3
   },
   "file_extension": ".py",
   "mimetype": "text/x-python",
   "name": "python",
   "nbconvert_exporter": "python",
   "pygments_lexer": "ipython3",
   "version": "3.8.5"
  }
 },
 "nbformat": 4,
 "nbformat_minor": 5
}
