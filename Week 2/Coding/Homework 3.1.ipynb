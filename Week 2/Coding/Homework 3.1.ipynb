{
 "cells": [
  {
   "cell_type": "code",
   "execution_count": 4,
   "id": "f6806f09-c7af-498c-af25-d6979a363f00",
   "metadata": {},
   "outputs": [],
   "source": [
    "import numpy as np"
   ]
  },
  {
   "cell_type": "code",
   "execution_count": 5,
   "id": "aeab38e4-516c-406b-a6b9-bd08548c60a6",
   "metadata": {},
   "outputs": [],
   "source": [
    "data = np.loadtxt(\"quantile.mat\")"
   ]
  },
  {
   "cell_type": "code",
   "execution_count": 6,
   "id": "c5cd1daa-1608-4d52-989c-fc087e4deac1",
   "metadata": {},
   "outputs": [
    {
     "name": "stdout",
     "output_type": "stream",
     "text": [
      "[ 1.    1.1   1.2  ...  9.98  9.99 10.  ]\n"
     ]
    }
   ],
   "source": [
    "print(data)\n"
   ]
  },
  {
   "cell_type": "code",
   "execution_count": null,
   "id": "8ef51ce6-4d89-48b4-8e50-49503bd8f538",
   "metadata": {},
   "outputs": [],
   "source": []
  }
 ],
 "metadata": {
  "kernelspec": {
   "display_name": "Python 3 (ipykernel)",
   "language": "python",
   "name": "python3"
  },
  "language_info": {
   "codemirror_mode": {
    "name": "ipython",
    "version": 3
   },
   "file_extension": ".py",
   "mimetype": "text/x-python",
   "name": "python",
   "nbconvert_exporter": "python",
   "pygments_lexer": "ipython3",
   "version": "3.8.5"
  }
 },
 "nbformat": 4,
 "nbformat_minor": 5
}
