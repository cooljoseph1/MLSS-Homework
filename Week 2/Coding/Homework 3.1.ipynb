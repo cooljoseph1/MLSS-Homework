{
 "cells": [
  {
   "cell_type": "code",
   "execution_count": 1,
   "id": "f6806f09-c7af-498c-af25-d6979a363f00",
   "metadata": {},
   "outputs": [],
   "source": [
    "import numpy as np\n",
    "from scipy.io import savemat, loadmat\n",
    "from scipy.optimize import linprog\n",
    "\n",
    "import matplotlib.pyplot as plt"
   ]
  },
  {
   "cell_type": "code",
   "execution_count": 2,
   "id": "077c402a-9879-4784-a51c-6fe99dfe31b2",
   "metadata": {},
   "outputs": [],
   "source": [
    "quantile = loadmat(\"quantile.mat\")\n",
    "xTrain, yTrain = quantile[\"xTrain\"].flatten(), quantile[\"yTrain\"].flatten()"
   ]
  },
  {
   "cell_type": "code",
   "execution_count": 3,
   "id": "d7684655-86bd-4e78-8691-075e45fcd74e",
   "metadata": {},
   "outputs": [],
   "source": [
    "# Constants\n",
    "N = xTrain.size"
   ]
  },
  {
   "cell_type": "code",
   "execution_count": 4,
   "id": "bc1b320b-317c-4c24-8afd-1feec8b61bcb",
   "metadata": {},
   "outputs": [],
   "source": [
    "def find_line(tau):\n",
    "    \"\"\"\n",
    "    Return the slope corresponding to the tau'th quantile.\n",
    "    \"\"\"\n",
    "    c = np.concatenate((\n",
    "        np.ones(N) * tau, # u\n",
    "        np.ones(N) * (1 - tau), # v\n",
    "        [0], # slope\n",
    "        [0], # intercept\n",
    "    ))\n",
    "\n",
    "    A_ub = -np.identity(2 * N + 2)\n",
    "    A_ub = A_ub[:-2]\n",
    "    b_ub = np.zeros((2 * N,)).T\n",
    "\n",
    "    A_eq = np.zeros((N, 2 * N + 2))\n",
    "    A_eq[:, :N] = np.identity(N)\n",
    "    A_eq[:, N:2*N] = -np.identity(N)\n",
    "    A_eq[:, -2] = xTrain.T\n",
    "    A_eq[:, -1] = 1\n",
    "    \n",
    "    b_eq = yTrain.transpose()\n",
    "    \n",
    "    bounds = [(None, None)] * (2 * N + 2)\n",
    "    \n",
    "    result = linprog(c, A_ub, b_ub, A_eq, b_eq, bounds).x\n",
    "    m = result[-2] # slope\n",
    "    b = result[-1] # intercept\n",
    "    return (m, b)"
   ]
  },
  {
   "cell_type": "code",
   "execution_count": 11,
   "id": "2b2157ba-f534-4df5-9e53-d001f4eba724",
   "metadata": {},
   "outputs": [
    {
     "name": "stdout",
     "output_type": "stream",
     "text": [
      "tau = 0.75 | slope = 0.21740773372818534 | intercept = 0.4492025040398797\n",
      "tau = 0.5 | slope = 0.23820824709390254 | intercept = -0.3307244016150209\n",
      "tau = 0.25 | slope = 0.22136016726775787 | intercept = -0.9926835520240038\n"
     ]
    },
    {
     "data": {
      "image/png": "[encoded data removed]",
      "text/plain": [
       "<Figure size 432x288 with 1 Axes>"
      ]
     },
     "metadata": {
      "needs_background": "light"
     },
     "output_type": "display_data"
    }
   ],
   "source": [
    "plt.scatter(xTrain, yTrain)\n",
    "x = np.linspace(min(xTrain), max(xTrain), 50)\n",
    "for tau in [0.75, 0.50, 0.25]:\n",
    "    m, b = find_line(tau)\n",
    "    print(\"tau =\", tau, \"|\", \"slope =\", m, \"|\", \"intercept =\", b)\n",
    "    plt.plot(x, m * x + b, label=f\"$\\\\tau$={tau:.2f}\")\n",
    "plt.legend()\n",
    "plt.show()"
   ]
  }
 ],
 "metadata": {
  "kernelspec": {
   "display_name": "Python 3 (ipykernel)",
   "language": "python",
   "name": "python3"
  },
  "language_info": {
   "codemirror_mode": {
    "name": "ipython",
    "version": 3
   },
   "file_extension": ".py",
   "mimetype": "text/x-python",
   "name": "python",
   "nbconvert_exporter": "python",
   "pygments_lexer": "ipython3",
   "version": "3.8.5"
  }
 },
 "nbformat": 4,
 "nbformat_minor": 5
}
